{
 "cells": [
  {
   "cell_type": "markdown",
   "metadata": {},
   "source": [
    "# Softmax exercise\n",
    "\n",
    "*Complete and hand in this completed worksheet (including its outputs and any supporting code outside of the worksheet) with your assignment submission. For more details see the [assignments page](http://vision.stanford.edu/teaching/cs231n/assignments.html) on the course website.*\n",
    "\n",
    "This exercise is analogous to the SVM exercise. You will:\n",
    "\n",
    "- implement a fully-vectorized **loss function** for the Softmax classifier\n",
    "- implement the fully-vectorized expression for its **analytic gradient**\n",
    "- **check your implementation** with numerical gradient\n",
    "- use a validation set to **tune the learning rate and regularization** strength\n",
    "- **optimize** the loss function with **SGD**\n",
    "- **visualize** the final learned weights\n"
   ]
  },
  {
   "cell_type": "code",
   "execution_count": 1,
   "metadata": {},
   "outputs": [],
   "source": [
    "import random\n",
    "import numpy as np\n",
    "from cs231n.data_utils import load_CIFAR10\n",
    "import matplotlib.pyplot as plt\n",
    "\n",
    "from __future__ import print_function\n",
    "\n",
    "%matplotlib inline\n",
    "plt.rcParams['figure.figsize'] = (10.0, 8.0) # set default size of plots\n",
    "plt.rcParams['image.interpolation'] = 'nearest'\n",
    "plt.rcParams['image.cmap'] = 'gray'\n",
    "\n",
    "# for auto-reloading extenrnal modules\n",
    "# see http://stackoverflow.com/questions/1907993/autoreload-of-modules-in-ipython\n",
    "%load_ext autoreload\n",
    "%autoreload 2"
   ]
  },
  {
   "cell_type": "code",
   "execution_count": 2,
   "metadata": {},
   "outputs": [
    {
     "name": "stdout",
     "output_type": "stream",
     "text": [
      "Train data shape:  (49000, 3073)\n",
      "Train labels shape:  (49000,)\n",
      "Validation data shape:  (1000, 3073)\n",
      "Validation labels shape:  (1000,)\n",
      "Test data shape:  (1000, 3073)\n",
      "Test labels shape:  (1000,)\n",
      "dev data shape:  (500, 3073)\n",
      "dev labels shape:  (500,)\n"
     ]
    }
   ],
   "source": [
    "def get_CIFAR10_data(num_training=49000, num_validation=1000, num_test=1000, num_dev=500):\n",
    "    \"\"\"\n",
    "    Load the CIFAR-10 dataset from disk and perform preprocessing to prepare\n",
    "    it for the linear classifier. These are the same steps as we used for the\n",
    "    SVM, but condensed to a single function.  \n",
    "    \"\"\"\n",
    "    # Load the raw CIFAR-10 data\n",
    "    cifar10_dir = 'cs231n/datasets/cifar-10-batches-py'\n",
    "    \n",
    "    X_train, y_train, X_test, y_test = load_CIFAR10(cifar10_dir)\n",
    "    \n",
    "    # subsample the data\n",
    "    mask = list(range(num_training, num_training + num_validation))\n",
    "    X_val = X_train[mask]\n",
    "    y_val = y_train[mask]\n",
    "    mask = list(range(num_training))\n",
    "    X_train = X_train[mask]\n",
    "    y_train = y_train[mask]\n",
    "    mask = list(range(num_test))\n",
    "    X_test = X_test[mask]\n",
    "    y_test = y_test[mask]\n",
    "    mask = np.random.choice(num_training, num_dev, replace=False)\n",
    "    X_dev = X_train[mask]\n",
    "    y_dev = y_train[mask]\n",
    "    \n",
    "    # Preprocessing: reshape the image data into rows\n",
    "    X_train = np.reshape(X_train, (X_train.shape[0], -1))\n",
    "    X_val = np.reshape(X_val, (X_val.shape[0], -1))\n",
    "    X_test = np.reshape(X_test, (X_test.shape[0], -1))\n",
    "    X_dev = np.reshape(X_dev, (X_dev.shape[0], -1))\n",
    "    \n",
    "    # Normalize the data: subtract the mean image\n",
    "    mean_image = np.mean(X_train, axis = 0)\n",
    "    X_train -= mean_image\n",
    "    X_val -= mean_image\n",
    "    X_test -= mean_image\n",
    "    X_dev -= mean_image\n",
    "    \n",
    "    # add bias dimension and transform into columns\n",
    "    X_train = np.hstack([X_train, np.ones((X_train.shape[0], 1))])\n",
    "    X_val = np.hstack([X_val, np.ones((X_val.shape[0], 1))])\n",
    "    X_test = np.hstack([X_test, np.ones((X_test.shape[0], 1))])\n",
    "    X_dev = np.hstack([X_dev, np.ones((X_dev.shape[0], 1))])\n",
    "    \n",
    "    return X_train, y_train, X_val, y_val, X_test, y_test, X_dev, y_dev\n",
    "\n",
    "\n",
    "# Cleaning up variables to prevent loading data multiple times (which may cause memory issue)\n",
    "try:\n",
    "    del X_train, y_train\n",
    "    del X_test, y_test\n",
    "    print('Clear previously loaded data.')\n",
    "except:\n",
    "    pass\n",
    "\n",
    "# Invoke the above function to get our data.\n",
    "X_train, y_train, X_val, y_val, X_test, y_test, X_dev, y_dev = get_CIFAR10_data()\n",
    "print('Train data shape: ', X_train.shape)\n",
    "print('Train labels shape: ', y_train.shape)\n",
    "print('Validation data shape: ', X_val.shape)\n",
    "print('Validation labels shape: ', y_val.shape)\n",
    "print('Test data shape: ', X_test.shape)\n",
    "print('Test labels shape: ', y_test.shape)\n",
    "print('dev data shape: ', X_dev.shape)\n",
    "print('dev labels shape: ', y_dev.shape)"
   ]
  },
  {
   "cell_type": "markdown",
   "metadata": {},
   "source": [
    "## Softmax Classifier\n",
    "\n",
    "Your code for this section will all be written inside **cs231n/classifiers/softmax.py**. \n"
   ]
  },
  {
   "cell_type": "code",
   "execution_count": 3,
   "metadata": {},
   "outputs": [
    {
     "name": "stdout",
     "output_type": "stream",
     "text": [
      "loss: 2.338072\n",
      "sanity check: 2.302585\n"
     ]
    }
   ],
   "source": [
    "# First implement the naive softmax loss function with nested loops.\n",
    "# Open the file cs231n/classifiers/softmax.py and implement the\n",
    "# softmax_loss_naive function.\n",
    "\n",
    "from cs231n.classifiers.softmax import softmax_loss_naive\n",
    "import time\n",
    "\n",
    "# Generate a random softmax weight matrix and use it to compute the loss.\n",
    "W = np.random.randn(3073, 10) * 0.0001\n",
    "loss, grad = softmax_loss_naive(W, X_dev, y_dev, 0.0)\n",
    "\n",
    "# As a rough sanity check, our loss should be something close to -log(0.1).\n",
    "print('loss: %f' % loss)\n",
    "print('sanity check: %f' % (-np.log(0.1)))"
   ]
  },
  {
   "cell_type": "markdown",
   "metadata": {},
   "source": [
    "## Inline Question 1:\n",
    "Why do we expect our loss to be close to -log(0.1)? Explain briefly.**\n",
    "\n",
    "**Your answer:** *Fill this in*\n"
   ]
  },
  {
   "cell_type": "code",
   "execution_count": 4,
   "metadata": {},
   "outputs": [
    {
     "name": "stdout",
     "output_type": "stream",
     "text": [
      "numerical: 3.543109 analytic: 3.543108, relative error: 3.416443e-08\n",
      "numerical: -0.218225 analytic: -0.218225, relative error: 8.386467e-08\n",
      "numerical: -0.567054 analytic: -0.567054, relative error: 6.148613e-08\n",
      "numerical: -0.803762 analytic: -0.803762, relative error: 5.486405e-08\n",
      "numerical: -0.821687 analytic: -0.821687, relative error: 4.465327e-10\n",
      "numerical: 0.394040 analytic: 0.394040, relative error: 4.740465e-08\n",
      "numerical: 0.235108 analytic: 0.235108, relative error: 9.759911e-08\n",
      "numerical: 0.306877 analytic: 0.306877, relative error: 5.394319e-08\n",
      "numerical: 0.324750 analytic: 0.324750, relative error: 1.132218e-07\n",
      "numerical: -3.450826 analytic: -3.450826, relative error: 7.415536e-09\n",
      "numerical: -0.976677 analytic: -0.976677, relative error: 5.623260e-08\n",
      "numerical: 1.439261 analytic: 1.439261, relative error: 3.184214e-09\n",
      "numerical: 2.042020 analytic: 2.042020, relative error: 2.882694e-08\n",
      "numerical: -0.211860 analytic: -0.211860, relative error: 7.228027e-08\n",
      "numerical: 0.282145 analytic: 0.282145, relative error: 1.158473e-07\n",
      "numerical: -0.066467 analytic: -0.066467, relative error: 4.690361e-08\n",
      "numerical: 0.853511 analytic: 0.853511, relative error: 4.580518e-09\n",
      "numerical: -3.462364 analytic: -3.462365, relative error: 2.484116e-08\n",
      "numerical: -1.182523 analytic: -1.182523, relative error: 1.255909e-08\n",
      "numerical: 2.502794 analytic: 2.502794, relative error: 6.758485e-09\n"
     ]
    }
   ],
   "source": [
    "# Complete the implementation of softmax_loss_naive and implement a (naive)\n",
    "# version of the gradient that uses nested loops.\n",
    "loss, grad = softmax_loss_naive(W, X_dev, y_dev, 0.0)\n",
    "\n",
    "# As we did for the SVM, use numeric gradient checking as a debugging tool.\n",
    "# The numeric gradient should be close to the analytic gradient.\n",
    "from cs231n.gradient_check import grad_check_sparse\n",
    "f = lambda w: softmax_loss_naive(w, X_dev, y_dev, 0.0)[0]\n",
    "grad_numerical = grad_check_sparse(f, W, grad, 10)\n",
    "\n",
    "# similar to SVM case, do another gradient check with regularization\n",
    "loss, grad = softmax_loss_naive(W, X_dev, y_dev, 5e1)\n",
    "f = lambda w: softmax_loss_naive(w, X_dev, y_dev, 5e1)[0]\n",
    "grad_numerical = grad_check_sparse(f, W, grad, 10)"
   ]
  },
  {
   "cell_type": "code",
   "execution_count": 13,
   "metadata": {},
   "outputs": [
    {
     "name": "stdout",
     "output_type": "stream",
     "text": [
      "[[0.5 1.  1.5]\n",
      " [2.  2.5 3.5]]\n",
      "[0 1 2 3 4]\n",
      "range(0, 5)\n"
     ]
    }
   ],
   "source": [
    "A=np.array([[1,2,3],[4,5,7]])\n",
    "print(A/[[2],[2]])\n",
    "print(np.arange(5))\n",
    "print(range(5))"
   ]
  },
  {
   "cell_type": "code",
   "execution_count": 5,
   "metadata": {},
   "outputs": [
    {
     "name": "stdout",
     "output_type": "stream",
     "text": [
      "naive loss: 2.338072e+00 computed in 0.234304s\n",
      "vectorized loss: 2.338072e+00 computed in 0.269994s\n",
      "Loss difference: 0.000000\n",
      "Gradient difference: 0.000000\n"
     ]
    }
   ],
   "source": [
    "# Now that we have a naive implementation of the softmax loss function and its gradient,\n",
    "# implement a vectorized version in softmax_loss_vectorized.\n",
    "# The two versions should compute the same results, but the vectorized version should be\n",
    "# much faster.\n",
    "tic = time.time()\n",
    "loss_naive, grad_naive = softmax_loss_naive(W, X_dev, y_dev, 0.000005)\n",
    "toc = time.time()\n",
    "print('naive loss: %e computed in %fs' % (loss_naive, toc - tic))\n",
    "\n",
    "from cs231n.classifiers.softmax import softmax_loss_vectorized\n",
    "tic = time.time()\n",
    "loss_vectorized, grad_vectorized = softmax_loss_vectorized(W, X_dev, y_dev, 0.000005)\n",
    "toc = time.time()\n",
    "print('vectorized loss: %e computed in %fs' % (loss_vectorized, toc - tic))\n",
    "\n",
    "# As we did for the SVM, we use the Frobenius norm to compare the two versions\n",
    "# of the gradient.\n",
    "grad_difference = np.linalg.norm(grad_naive - grad_vectorized, ord='fro')\n",
    "print('Loss difference: %f' % np.abs(loss_naive - loss_vectorized))\n",
    "print('Gradient difference: %f' % grad_difference)"
   ]
  },
  {
   "cell_type": "code",
   "execution_count": 14,
   "metadata": {
    "scrolled": true
   },
   "outputs": [
    {
     "name": "stdout",
     "output_type": "stream",
     "text": [
      "iteration 0 / 1000: loss 311.959401\n",
      "iteration 100 / 1000: loss 208.340730\n",
      "iteration 200 / 1000: loss 140.053055\n",
      "iteration 300 / 1000: loss 94.220109\n",
      "iteration 400 / 1000: loss 63.671852\n",
      "iteration 500 / 1000: loss 43.170960\n",
      "iteration 600 / 1000: loss 29.533119\n",
      "iteration 700 / 1000: loss 20.473188\n",
      "iteration 800 / 1000: loss 14.317599\n",
      "iteration 900 / 1000: loss 10.257190\n",
      "iteration 0 / 1000: loss 770.287906\n",
      "iteration 100 / 1000: loss 282.752579\n",
      "iteration 200 / 1000: loss 104.843172\n",
      "iteration 300 / 1000: loss 39.646707\n",
      "iteration 400 / 1000: loss 15.832108\n",
      "iteration 500 / 1000: loss 7.143364\n",
      "iteration 600 / 1000: loss 3.917528\n",
      "iteration 700 / 1000: loss 2.772084\n",
      "iteration 800 / 1000: loss 2.353607\n",
      "iteration 900 / 1000: loss 2.150276\n",
      "iteration 0 / 1000: loss 1555.423802\n",
      "iteration 100 / 1000: loss 209.450566\n",
      "iteration 200 / 1000: loss 29.883266\n",
      "iteration 300 / 1000: loss 5.821723\n",
      "iteration 400 / 1000: loss 2.634461\n",
      "iteration 500 / 1000: loss 2.234502\n",
      "iteration 600 / 1000: loss 2.126853\n",
      "iteration 700 / 1000: loss 2.201338\n",
      "iteration 800 / 1000: loss 2.206130\n",
      "iteration 900 / 1000: loss 2.122148\n",
      "iteration 0 / 1000: loss 319.362047\n",
      "iteration 100 / 1000: loss 96.077292\n",
      "iteration 200 / 1000: loss 30.063305\n",
      "iteration 300 / 1000: loss 10.393260\n",
      "iteration 400 / 1000: loss 4.478363\n",
      "iteration 500 / 1000: loss 2.727237\n",
      "iteration 600 / 1000: loss 2.247930\n",
      "iteration 700 / 1000: loss 2.007165\n",
      "iteration 800 / 1000: loss 2.065525\n",
      "iteration 900 / 1000: loss 2.008969\n",
      "iteration 0 / 1000: loss 769.922362\n",
      "iteration 100 / 1000: loss 39.164722\n",
      "iteration 200 / 1000: loss 3.886494\n",
      "iteration 300 / 1000: loss 2.119929\n",
      "iteration 400 / 1000: loss 2.166276\n",
      "iteration 500 / 1000: loss 2.124295\n",
      "iteration 600 / 1000: loss 2.103289\n",
      "iteration 700 / 1000: loss 2.044988\n",
      "iteration 800 / 1000: loss 2.095079\n",
      "iteration 900 / 1000: loss 2.055157\n",
      "iteration 0 / 1000: loss 1539.081890\n",
      "iteration 100 / 1000: loss 5.561127\n",
      "iteration 200 / 1000: loss 2.123650\n",
      "iteration 300 / 1000: loss 2.127015\n",
      "iteration 400 / 1000: loss 2.179975\n",
      "iteration 500 / 1000: loss 2.156967\n",
      "iteration 600 / 1000: loss 2.191171\n",
      "iteration 700 / 1000: loss 2.140168\n",
      "iteration 800 / 1000: loss 2.131286\n",
      "iteration 900 / 1000: loss 2.183651\n",
      "iteration 0 / 1000: loss 313.591432\n",
      "iteration 100 / 1000: loss 42.968563\n",
      "iteration 200 / 1000: loss 7.410224\n",
      "iteration 300 / 1000: loss 2.709015\n",
      "iteration 400 / 1000: loss 2.156802\n",
      "iteration 500 / 1000: loss 2.009298\n",
      "iteration 600 / 1000: loss 2.020358\n",
      "iteration 700 / 1000: loss 2.016639\n",
      "iteration 800 / 1000: loss 2.056133\n",
      "iteration 900 / 1000: loss 2.041937\n",
      "iteration 0 / 1000: loss 773.914978\n",
      "iteration 100 / 1000: loss 6.860099\n",
      "iteration 200 / 1000: loss 2.097292\n",
      "iteration 300 / 1000: loss 2.131434\n",
      "iteration 400 / 1000: loss 2.065543\n",
      "iteration 500 / 1000: loss 2.088380\n",
      "iteration 600 / 1000: loss 2.097275\n",
      "iteration 700 / 1000: loss 2.100784\n",
      "iteration 800 / 1000: loss 2.092616\n",
      "iteration 900 / 1000: loss 2.128657\n",
      "iteration 0 / 1000: loss 1556.837300\n",
      "iteration 100 / 1000: loss 2.215907\n",
      "iteration 200 / 1000: loss 2.139021\n",
      "iteration 300 / 1000: loss 2.120221\n",
      "iteration 400 / 1000: loss 2.180716\n",
      "iteration 500 / 1000: loss 2.148673\n",
      "iteration 600 / 1000: loss 2.103722\n",
      "iteration 700 / 1000: loss 2.132223\n",
      "iteration 800 / 1000: loss 2.146151\n",
      "iteration 900 / 1000: loss 2.168059\n",
      "lr 1.000000e-07 reg 1.000000e+04 train accuracy: 0.331633 val accuracy: 0.356000\n",
      "lr 1.000000e-07 reg 2.500000e+04 train accuracy: 0.325306 val accuracy: 0.342000\n",
      "lr 1.000000e-07 reg 5.000000e+04 train accuracy: 0.311694 val accuracy: 0.325000\n",
      "lr 3.000000e-07 reg 1.000000e+04 train accuracy: 0.355735 val accuracy: 0.374000\n",
      "lr 3.000000e-07 reg 2.500000e+04 train accuracy: 0.335796 val accuracy: 0.349000\n",
      "lr 3.000000e-07 reg 5.000000e+04 train accuracy: 0.303755 val accuracy: 0.319000\n",
      "lr 5.000000e-07 reg 1.000000e+04 train accuracy: 0.353755 val accuracy: 0.369000\n",
      "lr 5.000000e-07 reg 2.500000e+04 train accuracy: 0.328204 val accuracy: 0.337000\n",
      "lr 5.000000e-07 reg 5.000000e+04 train accuracy: 0.288122 val accuracy: 0.306000\n",
      "best validation accuracy achieved during cross-validation: 0.374000\n"
     ]
    }
   ],
   "source": [
    "# Use the validation set to tune hyperparameters (regularization strength and\n",
    "# learning rate). You should experiment with different ranges for the learning\n",
    "# rates and regularization strengths; if you are careful you should be able to\n",
    "# get a classification accuracy of over 0.35 on the validation set.\n",
    "from cs231n.classifiers import Softmax\n",
    "results = {}\n",
    "best_val = -1\n",
    "best_softmax = None\n",
    "learning_rates = [1e-7, 3e-7,5e-7]\n",
    "regularization_strengths = [1e4, 2.5e4, 5e4]\n",
    "\n",
    "################################################################################\n",
    "# TODO:                                                                        #\n",
    "# Use the validation set to set the learning rate and regularization strength. #\n",
    "# This should be identical to the validation that you did for the SVM; save    #\n",
    "# the best trained softmax classifer in best_softmax.                          #\n",
    "################################################################################\n",
    "for i in range(0,3):\n",
    "    for j in range(0,3):\n",
    "        sof=Softmax()\n",
    "        loss_hist=sof.train(X_train, y_train, learning_rate=learning_rates[i],\\\n",
    "                            reg=regularization_strengths[j],num_iters=1000,\\\n",
    "                            verbose=True)\n",
    "        y_pred_trn=sof.predict(X_train)\n",
    "        y_pred_val=sof.predict(X_val)\n",
    "        trn_accu=np.mean(y_pred_trn==y_train)\n",
    "        val_accu=np.mean(y_pred_val==y_val)\n",
    "        results[(learning_rates[i], regularization_strengths[j])]=(trn_accu,val_accu)\n",
    "        if val_accu>best_val:\n",
    "            best_val=val_accu\n",
    "            best_softmax=sof\n",
    "################################################################################\n",
    "#                              END OF YOUR CODE                                #\n",
    "################################################################################\n",
    "    \n",
    "# Print out results.\n",
    "for lr, reg in sorted(results):\n",
    "    train_accuracy, val_accuracy = results[(lr, reg)]\n",
    "    print('lr %e reg %e train accuracy: %f val accuracy: %f' % (\n",
    "                lr, reg, train_accuracy, val_accuracy))\n",
    "    \n",
    "print('best validation accuracy achieved during cross-validation: %f' % best_val)"
   ]
  },
  {
   "cell_type": "code",
   "execution_count": 15,
   "metadata": {},
   "outputs": [
    {
     "name": "stdout",
     "output_type": "stream",
     "text": [
      "softmax on raw pixels final test set accuracy: 0.369000\n"
     ]
    }
   ],
   "source": [
    "# evaluate on test set\n",
    "# Evaluate the best softmax on test set\n",
    "y_test_pred = best_softmax.predict(X_test)\n",
    "test_accuracy = np.mean(y_test == y_test_pred)\n",
    "print('softmax on raw pixels final test set accuracy: %f' % (test_accuracy, ))"
   ]
  },
  {
   "cell_type": "markdown",
   "metadata": {},
   "source": [
    "**Inline Question** - *True or False*\n",
    "\n",
    "It's possible to add a new datapoint to a training set that would leave the SVM loss unchanged, but this is not the case with the Softmax classifier loss.\n",
    "\n",
    "*Your answer*:\n",
    "\n",
    "*Your explanation*:"
   ]
  },
  {
   "cell_type": "code",
   "execution_count": 16,
   "metadata": {},
   "outputs": [
    {
     "data": {
      "image/png": "[encoded data removed]",
      "text/plain": [
       "<Figure size 432x288 with 10 Axes>"
      ]
     },
     "metadata": {},
     "output_type": "display_data"
    }
   ],
   "source": [
    "# Visualize the learned weights for each class\n",
    "w = best_softmax.W[:-1,:] # strip out the bias\n",
    "w = w.reshape(32, 32, 3, 10)\n",
    "\n",
    "w_min, w_max = np.min(w), np.max(w)\n",
    "\n",
    "classes = ['plane', 'car', 'bird', 'cat', 'deer', 'dog', 'frog', 'horse', 'ship', 'truck']\n",
    "for i in range(10):\n",
    "    plt.subplot(2, 5, i + 1)\n",
    "    \n",
    "    # Rescale the weights to be between 0 and 255\n",
    "    wimg = 255.0 * (w[:, :, :, i].squeeze() - w_min) / (w_max - w_min)\n",
    "    plt.imshow(wimg.astype('uint8'))\n",
    "    plt.axis('off')\n",
    "    plt.title(classes[i])"
   ]
  }
 ],
 "metadata": {
  "kernelspec": {
   "display_name": "Python 3",
   "language": "python",
   "name": "python3"
  },
  "language_info": {
   "codemirror_mode": {
    "name": "ipython",
    "version": 3
   },
   "file_extension": ".py",
   "mimetype": "text/x-python",
   "name": "python",
   "nbconvert_exporter": "python",
   "pygments_lexer": "ipython3",
   "version": "3.6.5"
  },
  "toc": {
   "base_numbering": 1,
   "nav_menu": {},
   "number_sections": true,
   "sideBar": true,
   "skip_h1_title": false,
   "title_cell": "Table of Contents",
   "title_sidebar": "Contents",
   "toc_cell": false,
   "toc_position": {},
   "toc_section_display": true,
   "toc_window_display": true
  }
 },
 "nbformat": 4,
 "nbformat_minor": 1
}
